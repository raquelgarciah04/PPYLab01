# Calculadora de Notas - Análisis de Puntuaciones de Estudiantes
# Proyecto: Data Analytics Training - Reto Introducción a Python

# Definir la lista de puntuaciones de 5 estudiantes (valores entre 1 y 100)
puntuaciones_estudiantes = [85, 92, 78, 95, 88]

# Función para calcular el promedio de puntuaciones
def calcular_promedio_puntuaciones(puntuaciones):
    """
    Calcula el promedio de una lista de puntuaciones.
    
    Args:
        puntuaciones (list): Lista de puntuaciones numéricas
        
    Returns:
        float: Promedio de las puntuaciones
    """
    total = 0
    for puntuacion in puntuaciones:
        total += puntuacion
    promedio = total / len(puntuaciones)
    return promedio

# Función para encontrar la puntuación máxima
def calcular_puntuacion_maxima(puntuaciones):
    """
    Encuentra la puntuación máxima en una lista de puntuaciones.
    
    Args:
        puntuaciones (list): Lista de puntuaciones numéricas
        
    Returns:
        int: Puntuación máxima
    """
    maxima = puntuaciones[0]
    for puntuacion in puntuaciones:
        if puntuacion > maxima:
            maxima = puntuacion
    return maxima

# Función para calcular el total de puntuaciones
def calcular_total_puntuaciones(puntuaciones):
    """
    Calcula la suma total de todas las puntuaciones.
    
    Args:
        puntuaciones (list): Lista de puntuaciones numéricas
        
    Returns:
        int: Suma total de las puntuaciones
    """
    total = 0
    for puntuacion in puntuaciones:
        total += puntuacion
    return total

# Función adicional: calcular la puntuación mínima (extra)
def calcular_puntuacion_minima(puntuaciones):
    """
    Encuentra la puntuación mínima en una lista de puntuaciones.
    
    Args:
        puntuaciones (list): Lista de puntuaciones numéricas
        
    Returns:
        int: Puntuación mínima
    """
    minima = puntuaciones[0]
    for puntuacion in puntuaciones:
        if puntuacion < minima:
            minima = puntuacion
    return minima

# Probar las funciones e imprimir los resultados
print("=== ANÁLISIS DE PUNTUACIONES DE ESTUDIANTES ===")
print(f"Lista de puntuaciones: {puntuaciones_estudiantes}")
print("")

# Calcular y mostrar el promedio
promedio = calcular_promedio_puntuaciones(puntuaciones_estudiantes)
print(f"📊 Promedio de puntuaciones: {promedio:.2f}")

# Calcular y mostrar la puntuación máxima
maxima = calcular_puntuacion_maxima(puntuaciones_estudiantes)
print(f"🏆 Puntuación máxima: {maxima}")

# Calcular y mostrar el total de puntuaciones
total = calcular_total_puntuaciones(puntuaciones_estudiantes)
print(f"🔢 Total de puntuaciones: {total}")

# Calcular y mostrar la puntuación mínima (función adicional)
minima = calcular_puntuacion_minima(puntuaciones_estudiantes)
print(f"📉 Puntuación mínima: {minima}")

print("")
print("=== ANÁLISIS COMPLETADO ===")
